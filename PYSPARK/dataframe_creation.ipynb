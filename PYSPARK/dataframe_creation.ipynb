{
 "cells": [
  {
   "cell_type": "code",
   "execution_count": 5,
   "metadata": {},
   "outputs": [],
   "source": [
    "import pyspark\n",
    "from pyspark.sql import SparkSession\n",
    "spark = SparkSession.builder.appName('rdd creation').getOrCreate()"
   ]
  },
  {
   "cell_type": "code",
   "execution_count": 6,
   "metadata": {},
   "outputs": [
    {
     "name": "stdout",
     "output_type": "stream",
     "text": [
      "root\n",
      " |-- Name: string (nullable = true)\n",
      " |-- Age: integer (nullable = true)\n",
      " |-- Gender: string (nullable = true)\n",
      " |-- Occupation: string (nullable = true)\n",
      " |-- City: string (nullable = true)\n",
      "\n",
      "+-------+---+------+-----------------+-------------+\n",
      "|   Name|Age|Gender|       Occupation|         City|\n",
      "+-------+---+------+-----------------+-------------+\n",
      "|   John| 28|  Male|Software Engineer|     New York|\n",
      "|   Jane| 35|Female|   Data Scientist|San Francisco|\n",
      "|   Alex| 42|  Male|  Project Manager|      Chicago|\n",
      "|   Emma| 29|Female| Product Designer|  Los Angeles|\n",
      "|Michael| 37|  Male|Marketing Manager|      Seattle|\n",
      "+-------+---+------+-----------------+-------------+\n",
      "\n"
     ]
    }
   ],
   "source": [
    "df_csv = spark.read.options(inferSchema=True, header=True).csv(\"/home/tharun/ubuntu_linux_server/PYSPARK/DATA/CSV_file.csv\")\n",
    "df_csv.printSchema()\n",
    "df_csv.show()"
   ]
  },
  {
   "cell_type": "code",
   "execution_count": 3,
   "metadata": {},
   "outputs": [
    {
     "name": "stdout",
     "output_type": "stream",
     "text": [
      "+--------------------+---+--------------------+------+-------+\n",
      "|             Address|Age|             Contact|Gender|   Name|\n",
      "+--------------------+---+--------------------+------+-------+\n",
      "|{New York, NY, 12...| 28|{john@example.com...|  Male|   John|\n",
      "|{San Francisco, C...| 35|{jane@example.com...|Female|   Jane|\n",
      "|{Chicago, IL, 789...| 42|{alex@example.com...|  Male|   Alex|\n",
      "|{Los Angeles, CA,...| 29|{emma@example.com...|Female|   Emma|\n",
      "|{Seattle, WA, 654...| 37|{michael@example....|  Male|Michael|\n",
      "+--------------------+---+--------------------+------+-------+\n",
      "\n",
      "root\n",
      " |-- Name: string (nullable = true)\n",
      " |-- Age: long (nullable = true)\n",
      " |-- Gender: string (nullable = true)\n",
      " |-- Email: string (nullable = true)\n",
      " |-- Phone: string (nullable = true)\n",
      " |-- City: string (nullable = true)\n",
      " |-- State: string (nullable = true)\n",
      " |-- Street: string (nullable = true)\n",
      "\n",
      "+-------+---+------+-------------------+------------+-------------+-----+------------+\n",
      "|   Name|Age|Gender|              Email|       Phone|         City|State|      Street|\n",
      "+-------+---+------+-------------------+------------+-------------+-----+------------+\n",
      "|   John| 28|  Male|   john@example.com|123-456-7890|     New York|   NY| 123 Main St|\n",
      "|   Jane| 35|Female|   jane@example.com|234-567-8901|San Francisco|   CA|  456 Elm St|\n",
      "|   Alex| 42|  Male|   alex@example.com|345-678-9012|      Chicago|   IL|  789 Oak St|\n",
      "|   Emma| 29|Female|   emma@example.com|456-789-0123|  Los Angeles|   CA| 321 Pine St|\n",
      "|Michael| 37|  Male|michael@example.com|567-890-1234|      Seattle|   WA|654 Cedar St|\n",
      "+-------+---+------+-------------------+------------+-------------+-----+------------+\n",
      "\n"
     ]
    }
   ],
   "source": [
    "df_json = spark.read.options(multiLine = True, inferSchema=True).json(\"/home/tharun/ubuntu_linux_server/PYSPARK/DATA/JSON_file.json\")\n",
    "new_json_df = df_json.select(\"Name\", \"Age\", \"Gender\", \"Contact.*\", \"Address.*\")\n",
    "df_json.show()\n",
    "new_json_df.printSchema()\n",
    "new_json_df.show()"
   ]
  },
  {
   "cell_type": "code",
   "execution_count": null,
   "metadata": {},
   "outputs": [],
   "source": []
  }
 ],
 "metadata": {
  "kernelspec": {
   "display_name": "Python 3",
   "language": "python",
   "name": "python3"
  },
  "language_info": {
   "codemirror_mode": {
    "name": "ipython",
    "version": 3
   },
   "file_extension": ".py",
   "mimetype": "text/x-python",
   "name": "python",
   "nbconvert_exporter": "python",
   "pygments_lexer": "ipython3",
   "version": "3.undefined.undefined"
  }
 },
 "nbformat": 4,
 "nbformat_minor": 2
}
